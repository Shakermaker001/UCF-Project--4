{
 "cells": [
  {
   "cell_type": "code",
   "execution_count": 8,
   "metadata": {},
   "outputs": [
    {
     "name": "stdout",
     "output_type": "stream",
     "text": [
      "1/1 [==============================] - 0s 60ms/step\n",
      "1/1 [==============================] - 0s 24ms/step\n",
      "\n",
      "Confidence of Pneumonia percentage: [[0.00038432]\n",
      " [0.00061874]\n",
      " [0.00302013]\n",
      " [0.00477131]\n",
      " [0.00060444]\n",
      " [0.00308998]\n",
      " [0.00059715]\n",
      " [0.0078941 ]\n",
      " [0.00665515]\n",
      " [0.00429541]]\n",
      "\n",
      "\n",
      "Confidence of Pneumonia percentage: [[1.        ]\n",
      " [0.96315724]\n",
      " [0.9999676 ]\n",
      " [0.9511318 ]\n",
      " [0.9988134 ]\n",
      " [0.9919886 ]\n",
      " [0.74511266]\n",
      " [0.99364406]\n",
      " [0.9932563 ]\n",
      " [0.99919015]]\n",
      "\n"
     ]
    }
   ],
   "source": [
    "import tensorflow as tf\n",
    "import numpy as np\n",
    "from PIL import Image\n",
    "import os\n",
    "\n",
    "# Load the model\n",
    "model = tf.keras.models.load_model('./models/validation_model.h5')\n",
    "\n",
    "# Define the paths to the images\n",
    "test_normal_path = './Resources/chest_xray/train/NORMAL'\n",
    "test_pneumonia_path = './Resources/chest_xray/train/PNEUMONIA'\n",
    "\n",
    "\n",
    "def preprocess_images(image_path, total_count):\n",
    "    \"\"\"\n",
    "    Preprocesses a batch of images by opening them, converting them to RGB mode, resizing them to 256x256 pixels,\n",
    "    and normalizing their pixel values.\n",
    "\n",
    "    Args:\n",
    "        image_path (str): The path to the image files.\n",
    "        total_count (int): The total count of images to classify within the path.\n",
    "\n",
    "    Returns:\n",
    "        numpy.ndarray: The preprocessed images as a numpy array.\n",
    "    \"\"\"\n",
    "    images = []\n",
    "    image_files = os.listdir(image_path)\n",
    "    for file in image_files[:total_count]:\n",
    "        image = Image.open(os.path.join(image_path, file))\n",
    "        image = image.convert('RGB')  # Convert image to RGB mode\n",
    "        image = image.resize((256, 256))  # Resize the image to 256x256 pixels\n",
    "        image = np.array(image) / 255.0  # Convert to numpy array and normalize\n",
    "        images.append(image)\n",
    "    return np.array(images)\n",
    "\n",
    "# Load and preprocess the image data\n",
    "healthy_lungs = preprocess_images(test_normal_path, total_count=10)\n",
    "unhealthy_lungs = preprocess_images(test_pneumonia_path, total_count=10)\n",
    "\n",
    "# Perform prediction\n",
    "healthy_predictions = model.predict(healthy_lungs)\n",
    "unhealthy_predictions = model.predict(unhealthy_lungs)\n",
    "\n",
    "# Print the predictions\n",
    "print(f'\\nConfidence of Pneumonia percentage: {healthy_predictions}\\n')\n",
    "print(f'\\nConfidence of Pneumonia percentage: {unhealthy_predictions}\\n')\n",
    "\n"
   ]
  }
 ],
 "metadata": {
  "kernelspec": {
   "display_name": "dev",
   "language": "python",
   "name": "python3"
  },
  "language_info": {
   "codemirror_mode": {
    "name": "ipython",
    "version": 3
   },
   "file_extension": ".py",
   "mimetype": "text/x-python",
   "name": "python",
   "nbconvert_exporter": "python",
   "pygments_lexer": "ipython3",
   "version": "3.9.18"
  }
 },
 "nbformat": 4,
 "nbformat_minor": 2
}
