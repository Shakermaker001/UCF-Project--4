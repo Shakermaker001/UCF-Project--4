{
 "cells": [
  {
   "cell_type": "code",
   "execution_count": 12,
   "metadata": {},
   "outputs": [
    {
     "name": "stdout",
     "output_type": "stream",
     "text": [
      "1/1 [==============================] - 0s 45ms/step\n",
      "1/1 [==============================] - 0s 15ms/step\n",
      "1/1 [==============================] - 0s 14ms/step\n",
      "[[0.99791735]]\n",
      "[[0.7682277]]\n",
      "[[0.97888225]]\n"
     ]
    }
   ],
   "source": [
    "import tensorflow as tf\n",
    "import numpy as np\n",
    "from PIL import Image\n",
    "\n",
    "# Load the model\n",
    "model = tf.keras.models.load_model('validation_model.h5')\n",
    "\n",
    "# Define the paths to the images\n",
    "healthy_lungs_path = './Resources/healthy_lungs.png'\n",
    "unhealthy_lungs_path = './Resources/unhealthy_lungs.png'\n",
    "unhealthy_lungs_path2 = './Resources/unhealthy_lungs2.png'\n",
    "\n",
    "def preprocess_image(image_path):\n",
    "    \"\"\"\n",
    "    Preprocesses an image by opening it, converting it to RGB mode, resizing it to 256x256 pixels,\n",
    "    and normalizing its pixel values.\n",
    "\n",
    "\n",
    "    Args:\n",
    "        image_path (str): The path to the image file.\n",
    "\n",
    "    Returns:\n",
    "        numpy.ndarray: The preprocessed image as a numpy array.\n",
    "    \"\"\"\n",
    "    image = Image.open(image_path)\n",
    "    image = image.convert('RGB')  # Convert image to RGB mode\n",
    "    image = image.resize((256, 256))  # Resize the image to 256x256 pixels\n",
    "    image = np.array(image) / 255.0  # Convert to numpy array and normalize\n",
    "    return image\n",
    "\n",
    "\n",
    "# Load and preprocess the image data\n",
    "healthy_lungs = preprocess_image(healthy_lungs_path)\n",
    "unhealthy_lungs = preprocess_image(unhealthy_lungs_path)\n",
    "unhealthy_lungs_2 = preprocess_image(unhealthy_lungs_path2)\n",
    "# Perform prediction\n",
    "healthy_prediction = model.predict(np.expand_dims(healthy_lungs, axis=0))\n",
    "unhealthy_prediction = model.predict(np.expand_dims(unhealthy_lungs, axis=0))\n",
    "unhealthy_prediction_2 = model.predict(np.expand_dims(unhealthy_lungs_2, axis=0))\n",
    "# Print the predictions\n",
    "print(healthy_prediction)\n",
    "print(unhealthy_prediction)\n",
    "print(unhealthy_prediction_2)\n",
    "\n"
   ]
  }
 ],
 "metadata": {
  "kernelspec": {
   "display_name": "dev",
   "language": "python",
   "name": "python3"
  },
  "language_info": {
   "codemirror_mode": {
    "name": "ipython",
    "version": 3
   },
   "file_extension": ".py",
   "mimetype": "text/x-python",
   "name": "python",
   "nbconvert_exporter": "python",
   "pygments_lexer": "ipython3",
   "version": "3.9.18"
  }
 },
 "nbformat": 4,
 "nbformat_minor": 2
}
